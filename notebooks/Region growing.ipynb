{
 "cells": [
  {
   "cell_type": "code",
   "execution_count": null,
   "metadata": {
    "collapsed": true
   },
   "outputs": [],
   "source": [
    "import __init__"
   ]
  },
  {
   "cell_type": "code",
   "execution_count": 2,
   "metadata": {
    "collapsed": true
   },
   "outputs": [],
   "source": [
    "from framework.datatools import Data, greyplot\n",
    "import matplotlib.pyplot as plt\n",
    "%matplotlib inline\n",
    "import numpy as np\n",
    "from framework.config import LOCS"
   ]
  },
  {
   "cell_type": "code",
   "execution_count": 3,
   "metadata": {
    "collapsed": true
   },
   "outputs": [],
   "source": [
    "train = Data(LOCS.train_dir)"
   ]
  },
  {
   "cell_type": "code",
   "execution_count": 4,
   "metadata": {
    "collapsed": false
   },
   "outputs": [
    {
     "data": {
      "text/plain": [
       "['4ch_20',\n",
       " 'sax_12',\n",
       " 'sax_10',\n",
       " '2ch_21',\n",
       " 'sax_16',\n",
       " 'sax_17',\n",
       " 'sax_14',\n",
       " 'sax_13',\n",
       " 'sax_18',\n",
       " 'sax_15',\n",
       " 'sax_8',\n",
       " 'sax_9',\n",
       " 'sax_11',\n",
       " 'sax_57',\n",
       " 'sax_38',\n",
       " 'sax_5',\n",
       " 'sax_6',\n",
       " 'sax_7']"
      ]
     },
     "execution_count": 4,
     "metadata": {},
     "output_type": "execute_result"
    }
   ],
   "source": [
    "train.s_1.keys()"
   ]
  },
  {
   "cell_type": "code",
   "execution_count": null,
   "metadata": {
    "collapsed": true
   },
   "outputs": [],
   "source": [
    "def sort_slices(slices):\n",
    "    "
   ]
  },
  {
   "cell_type": "code",
   "execution_count": 6,
   "metadata": {
    "collapsed": false
   },
   "outputs": [],
   "source": [
    "def find_median_slice(slices):\n",
    "    sax_slices = [sl for sl in slices if 'sax' in sl]\n",
    "    sax_slices.sort(key=lambda x:int(x.split('_')[1]))\n",
    "    return sax_slices"
   ]
  },
  {
   "cell_type": "code",
   "execution_count": 7,
   "metadata": {
    "collapsed": false
   },
   "outputs": [
    {
     "data": {
      "text/plain": [
       "['sax_5',\n",
       " 'sax_6',\n",
       " 'sax_7',\n",
       " 'sax_8',\n",
       " 'sax_9',\n",
       " 'sax_10',\n",
       " 'sax_11',\n",
       " 'sax_12',\n",
       " 'sax_13',\n",
       " 'sax_14',\n",
       " 'sax_15',\n",
       " 'sax_16',\n",
       " 'sax_17',\n",
       " 'sax_18',\n",
       " 'sax_38',\n",
       " 'sax_57']"
      ]
     },
     "execution_count": 7,
     "metadata": {},
     "output_type": "execute_result"
    }
   ],
   "source": [
    "find_median_slice(train.s_1.keys())"
   ]
  },
  {
   "cell_type": "code",
   "execution_count": null,
   "metadata": {
    "collapsed": true
   },
   "outputs": [],
   "source": []
  }
 ],
 "metadata": {
  "kernelspec": {
   "display_name": "Python 2",
   "language": "python",
   "name": "python2"
  },
  "language_info": {
   "codemirror_mode": {
    "name": "ipython",
    "version": 2
   },
   "file_extension": ".py",
   "mimetype": "text/x-python",
   "name": "python",
   "nbconvert_exporter": "python",
   "pygments_lexer": "ipython2",
   "version": "2.7.6"
  }
 },
 "nbformat": 4,
 "nbformat_minor": 0
}
