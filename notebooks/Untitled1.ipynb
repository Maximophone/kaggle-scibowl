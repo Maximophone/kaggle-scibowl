{
 "cells": [
  {
   "cell_type": "code",
   "execution_count": 2,
   "metadata": {
    "collapsed": false
   },
   "outputs": [],
   "source": [
    "import __init__"
   ]
  },
  {
   "cell_type": "code",
   "execution_count": 3,
   "metadata": {
    "collapsed": false
   },
   "outputs": [],
   "source": [
    "import framework"
   ]
  },
  {
   "cell_type": "code",
   "execution_count": 7,
   "metadata": {
    "collapsed": false
   },
   "outputs": [
    {
     "data": {
      "text/plain": [
       "'/home/max/devel/kaggle/kaggle-scibowl'"
      ]
     },
     "execution_count": 7,
     "metadata": {},
     "output_type": "execute_result"
    }
   ],
   "source": [
    "path.dirname(path.abspath('.'))"
   ]
  },
  {
   "cell_type": "code",
   "execution_count": 4,
   "metadata": {
    "collapsed": false
   },
   "outputs": [
    {
     "data": {
      "text/plain": [
       "['',\n",
       " '/usr/local/lib/python2.7/dist-packages/xgboost-0.4-py2.7.egg',\n",
       " '/usr/local/lib/python2.7/dist-packages/seldon-2.0.0-py2.7.egg',\n",
       " '/usr/local/lib/python2.7/dist-packages/luigi-2.1.1-py2.7.egg',\n",
       " '/usr/local/lib/python2.7/dist-packages/wabbit_wappa-3.0.2-py2.7.egg',\n",
       " '/usr/local/lib/python2.7/dist-packages/python_daemon-2.1.1-py2.7.egg',\n",
       " '/usr/local/lib/python2.7/dist-packages/lockfile-0.12.2-py2.7.egg',\n",
       " '/usr/lib/python2.7/dist-packages',\n",
       " '/usr/lib/python2.7',\n",
       " '/usr/lib/python2.7/plat-x86_64-linux-gnu',\n",
       " '/usr/lib/python2.7/lib-tk',\n",
       " '/usr/lib/python2.7/lib-old',\n",
       " '/usr/lib/python2.7/lib-dynload',\n",
       " '/usr/local/lib/python2.7/dist-packages',\n",
       " '/usr/lib/python2.7/dist-packages/PILcompat',\n",
       " '/usr/lib/python2.7/dist-packages/gtk-2.0',\n",
       " '/usr/lib/pymodules/python2.7',\n",
       " '/usr/lib/python2.7/dist-packages/ubuntu-sso-client',\n",
       " '/usr/lib/python2.7/dist-packages/wx-2.8-gtk2-unicode',\n",
       " '/usr/local/lib/python2.7/dist-packages/IPython/extensions',\n",
       " '/home/max/.ipython',\n",
       " '/home/max/devel/kaggle/kaggle-scibowl/notebooks']"
      ]
     },
     "execution_count": 4,
     "metadata": {},
     "output_type": "execute_result"
    }
   ],
   "source": [
    "__init__.sys.path"
   ]
  },
  {
   "cell_type": "code",
   "execution_count": 1,
   "metadata": {
    "collapsed": false
   },
   "outputs": [
    {
     "ename": "ImportError",
     "evalue": "No module named framework",
     "output_type": "error",
     "traceback": [
      "\u001b[1;31m---------------------------------------------------------------------------\u001b[0m",
      "\u001b[1;31mImportError\u001b[0m                               Traceback (most recent call last)",
      "\u001b[1;32m<ipython-input-1-40b1b269330d>\u001b[0m in \u001b[0;36m<module>\u001b[1;34m()\u001b[0m\n\u001b[1;32m----> 1\u001b[1;33m \u001b[1;32mimport\u001b[0m \u001b[0mframework\u001b[0m\u001b[1;33m\u001b[0m\u001b[0m\n\u001b[0m",
      "\u001b[1;31mImportError\u001b[0m: No module named framework"
     ]
    }
   ],
   "source": [
    "import framework"
   ]
  },
  {
   "cell_type": "code",
   "execution_count": null,
   "metadata": {
    "collapsed": true
   },
   "outputs": [],
   "source": []
  }
 ],
 "metadata": {
  "kernelspec": {
   "display_name": "Python 2",
   "language": "python",
   "name": "python2"
  },
  "language_info": {
   "codemirror_mode": {
    "name": "ipython",
    "version": 2
   },
   "file_extension": ".py",
   "mimetype": "text/x-python",
   "name": "python",
   "nbconvert_exporter": "python",
   "pygments_lexer": "ipython2",
   "version": "2.7.6"
  }
 },
 "nbformat": 4,
 "nbformat_minor": 0
}
