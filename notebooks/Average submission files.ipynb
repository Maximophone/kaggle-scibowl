{
 "cells": [
  {
   "cell_type": "code",
   "execution_count": 1,
   "metadata": {
    "collapsed": true
   },
   "outputs": [],
   "source": [
    "import __init__"
   ]
  },
  {
   "cell_type": "code",
   "execution_count": 1,
   "metadata": {
    "collapsed": true
   },
   "outputs": [],
   "source": [
    "import csv\n",
    "\n",
    "m1_loc = './framework/models/model3_2/implementations/impl2/submission.csv'\n",
    "m2_loc = './framework/models/model4_2/implementations/impl1/submission.csv'\n",
    "\n",
    "w1 = 1\n",
    "w2 = 4\n",
    "\n",
    "result_loc = './consolidated_submission_4.csv'\n",
    "\n",
    "lines1 = []\n",
    "fi = csv.reader(open(m1_loc))\n",
    "f = open(result_loc, 'w')\n",
    "fo = csv.writer(f, lineterminator='\\n')\n",
    "fo.writerow(fi.next())\n",
    "for line in fi:\n",
    "    lines1.append(line)\n",
    "\n",
    "lines2 = []\n",
    "fi = csv.reader(open(m2_loc))\n",
    "fi.next()\n",
    "for line in fi:\n",
    "    lines2.append(line)\n",
    "\n",
    "def avg_lines(l1,l2,w1,w2):\n",
    "    if not l1: return l2\n",
    "    if not l2: return l1\n",
    "    l1_f = [float(x) for x in l1]\n",
    "    l2_f = [float(x) for x in l2]\n",
    "    l3_f = [(w1*x + w2*y)/(w1+w2) for x,y in zip(l1_f,l2_f)]\n",
    "    return [str(x) for x in l3_f]\n",
    "\n",
    "for line1,line2 in zip(lines1,lines2):\n",
    "    idx = line1[0]\n",
    "    out = [idx]\n",
    "    out.extend(avg_lines(line1[1:],line2[1:],w1,w2))\n",
    "    fo.writerow(out)\n",
    "f.close()"
   ]
  },
  {
   "cell_type": "code",
   "execution_count": null,
   "metadata": {
    "collapsed": true
   },
   "outputs": [],
   "source": []
  }
 ],
 "metadata": {
  "kernelspec": {
   "display_name": "Python 2",
   "language": "python",
   "name": "python2"
  },
  "language_info": {
   "codemirror_mode": {
    "name": "ipython",
    "version": 2
   },
   "file_extension": ".py",
   "mimetype": "text/x-python",
   "name": "python",
   "nbconvert_exporter": "python",
   "pygments_lexer": "ipython2",
   "version": "2.7.6"
  }
 },
 "nbformat": 4,
 "nbformat_minor": 0
}
